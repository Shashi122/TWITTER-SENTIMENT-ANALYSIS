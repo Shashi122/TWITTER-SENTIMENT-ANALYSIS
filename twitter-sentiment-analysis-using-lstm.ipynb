{
 "cells": [
  {
   "cell_type": "code",
   "execution_count": 1,
   "metadata": {
    "_cell_guid": "b1076dfc-b9ad-4769-8c92-a6c4dae69d19",
    "_uuid": "8f2839f25d086af736a60e9eeb907d3b93b6e0e5",
    "execution": {
     "iopub.execute_input": "2020-11-25T11:33:43.423240Z",
     "iopub.status.busy": "2020-11-25T11:33:43.422410Z",
     "iopub.status.idle": "2020-11-25T11:33:50.352845Z",
     "shell.execute_reply": "2020-11-25T11:33:50.352010Z"
    },
    "papermill": {
     "duration": 6.960687,
     "end_time": "2020-11-25T11:33:50.352993",
     "exception": false,
     "start_time": "2020-11-25T11:33:43.392306",
     "status": "completed"
    },
    "tags": []
   },
   "outputs": [],
   "source": [
    "import pandas as pd\n",
    "import numpy as np\n",
    "import re\n",
    "import nltk\n",
    "from nltk.corpus import stopwords\n",
    "import tensorflow\n",
    "from tensorflow.keras.layers import Embedding\n",
    "from tensorflow.keras.preprocessing.sequence import pad_sequences\n",
    "from tensorflow.keras.models import Sequential\n",
    "from tensorflow.keras.preprocessing.text import one_hot\n",
    "from tensorflow.keras.layers import LSTM\n",
    "from tensorflow.keras.layers import Dense"
   ]
  },
  {
   "cell_type": "code",
   "execution_count": 2,
   "metadata": {
    "_cell_guid": "79c7e3d0-c299-4dcb-8224-4455121ee9b0",
    "_uuid": "d629ff2d2480ee46fbb7e2d37f6b5fab8052498a",
    "execution": {
     "iopub.execute_input": "2020-11-25T11:33:50.404387Z",
     "iopub.status.busy": "2020-11-25T11:33:50.403519Z",
     "iopub.status.idle": "2020-11-25T11:33:50.600482Z",
     "shell.execute_reply": "2020-11-25T11:33:50.599681Z"
    },
    "papermill": {
     "duration": 0.227657,
     "end_time": "2020-11-25T11:33:50.600655",
     "exception": false,
     "start_time": "2020-11-25T11:33:50.372998",
     "status": "completed"
    },
    "tags": []
   },
   "outputs": [],
   "source": [
    "pd.set_option('display.max_colwidth',200)\n",
    "df=pd.read_csv('../input/tweet-1/train.csv',encoding='iso-8859-1')"
   ]
  },
  {
   "cell_type": "code",
   "execution_count": 3,
   "metadata": {
    "execution": {
     "iopub.execute_input": "2020-11-25T11:33:50.645603Z",
     "iopub.status.busy": "2020-11-25T11:33:50.644801Z",
     "iopub.status.idle": "2020-11-25T11:33:50.670482Z",
     "shell.execute_reply": "2020-11-25T11:33:50.669797Z"
    },
    "papermill": {
     "duration": 0.050087,
     "end_time": "2020-11-25T11:33:50.670630",
     "exception": false,
     "start_time": "2020-11-25T11:33:50.620543",
     "status": "completed"
    },
    "tags": []
   },
   "outputs": [
    {
     "data": {
      "text/plain": [
       "ItemID           0\n",
       "Sentiment        0\n",
       "SentimentText    0\n",
       "dtype: int64"
      ]
     },
     "execution_count": 3,
     "metadata": {},
     "output_type": "execute_result"
    }
   ],
   "source": [
    "df.isnull().sum()"
   ]
  },
  {
   "cell_type": "code",
   "execution_count": 4,
   "metadata": {
    "execution": {
     "iopub.execute_input": "2020-11-25T11:33:50.725763Z",
     "iopub.status.busy": "2020-11-25T11:33:50.725051Z",
     "iopub.status.idle": "2020-11-25T11:33:50.734189Z",
     "shell.execute_reply": "2020-11-25T11:33:50.733622Z"
    },
    "papermill": {
     "duration": 0.042773,
     "end_time": "2020-11-25T11:33:50.734313",
     "exception": false,
     "start_time": "2020-11-25T11:33:50.691540",
     "status": "completed"
    },
    "tags": []
   },
   "outputs": [
    {
     "data": {
      "text/html": [
       "<div>\n",
       "<style scoped>\n",
       "    .dataframe tbody tr th:only-of-type {\n",
       "        vertical-align: middle;\n",
       "    }\n",
       "\n",
       "    .dataframe tbody tr th {\n",
       "        vertical-align: top;\n",
       "    }\n",
       "\n",
       "    .dataframe thead th {\n",
       "        text-align: right;\n",
       "    }\n",
       "</style>\n",
       "<table border=\"1\" class=\"dataframe\">\n",
       "  <thead>\n",
       "    <tr style=\"text-align: right;\">\n",
       "      <th></th>\n",
       "      <th>ItemID</th>\n",
       "      <th>Sentiment</th>\n",
       "      <th>SentimentText</th>\n",
       "    </tr>\n",
       "  </thead>\n",
       "  <tbody>\n",
       "    <tr>\n",
       "      <th>0</th>\n",
       "      <td>1</td>\n",
       "      <td>0</td>\n",
       "      <td>is so sad for my APL friend.............</td>\n",
       "    </tr>\n",
       "    <tr>\n",
       "      <th>1</th>\n",
       "      <td>2</td>\n",
       "      <td>0</td>\n",
       "      <td>I missed the New Moon trailer...</td>\n",
       "    </tr>\n",
       "    <tr>\n",
       "      <th>2</th>\n",
       "      <td>3</td>\n",
       "      <td>1</td>\n",
       "      <td>omg its already 7:30 :O</td>\n",
       "    </tr>\n",
       "    <tr>\n",
       "      <th>3</th>\n",
       "      <td>4</td>\n",
       "      <td>0</td>\n",
       "      <td>.. Omgaga. Im sooo  im gunna CRy. I've been at this dentist since 11.. I was suposed 2 just get a crown put on (30mins)...</td>\n",
       "    </tr>\n",
       "    <tr>\n",
       "      <th>4</th>\n",
       "      <td>5</td>\n",
       "      <td>0</td>\n",
       "      <td>i think mi bf is cheating on me!!!       T_T</td>\n",
       "    </tr>\n",
       "    <tr>\n",
       "      <th>...</th>\n",
       "      <td>...</td>\n",
       "      <td>...</td>\n",
       "      <td>...</td>\n",
       "    </tr>\n",
       "    <tr>\n",
       "      <th>99984</th>\n",
       "      <td>99996</td>\n",
       "      <td>0</td>\n",
       "      <td>@Cupcake  seems like a repeating problem   hope you're able to find something.</td>\n",
       "    </tr>\n",
       "    <tr>\n",
       "      <th>99985</th>\n",
       "      <td>99997</td>\n",
       "      <td>1</td>\n",
       "      <td>@cupcake__ arrrr we both replied to each other over different tweets at the same time  , i'll see you then, Duno where the hell Kateyy is!</td>\n",
       "    </tr>\n",
       "    <tr>\n",
       "      <th>99986</th>\n",
       "      <td>99998</td>\n",
       "      <td>0</td>\n",
       "      <td>@CuPcAkE_2120 ya i thought so</td>\n",
       "    </tr>\n",
       "    <tr>\n",
       "      <th>99987</th>\n",
       "      <td>99999</td>\n",
       "      <td>1</td>\n",
       "      <td>@Cupcake_Dollie Yes. Yes. I'm glad you had more fun with me.</td>\n",
       "    </tr>\n",
       "    <tr>\n",
       "      <th>99988</th>\n",
       "      <td>100000</td>\n",
       "      <td>1</td>\n",
       "      <td>@cupcake_kayla haha yes you do</td>\n",
       "    </tr>\n",
       "  </tbody>\n",
       "</table>\n",
       "<p>99989 rows × 3 columns</p>\n",
       "</div>"
      ],
      "text/plain": [
       "       ItemID  Sentiment  \\\n",
       "0           1          0   \n",
       "1           2          0   \n",
       "2           3          1   \n",
       "3           4          0   \n",
       "4           5          0   \n",
       "...       ...        ...   \n",
       "99984   99996          0   \n",
       "99985   99997          1   \n",
       "99986   99998          0   \n",
       "99987   99999          1   \n",
       "99988  100000          1   \n",
       "\n",
       "                                                                                                                                    SentimentText  \n",
       "0                                                                                                        is so sad for my APL friend.............  \n",
       "1                                                                                                                I missed the New Moon trailer...  \n",
       "2                                                                                                                         omg its already 7:30 :O  \n",
       "3                      .. Omgaga. Im sooo  im gunna CRy. I've been at this dentist since 11.. I was suposed 2 just get a crown put on (30mins)...  \n",
       "4                                                                                                    i think mi bf is cheating on me!!!       T_T  \n",
       "...                                                                                                                                           ...  \n",
       "99984                                                              @Cupcake  seems like a repeating problem   hope you're able to find something.  \n",
       "99985  @cupcake__ arrrr we both replied to each other over different tweets at the same time  , i'll see you then, Duno where the hell Kateyy is!  \n",
       "99986                                                                                                              @CuPcAkE_2120 ya i thought so   \n",
       "99987                                                                               @Cupcake_Dollie Yes. Yes. I'm glad you had more fun with me.   \n",
       "99988                                                                                                             @cupcake_kayla haha yes you do   \n",
       "\n",
       "[99989 rows x 3 columns]"
      ]
     },
     "execution_count": 4,
     "metadata": {},
     "output_type": "execute_result"
    }
   ],
   "source": [
    "df"
   ]
  },
  {
   "cell_type": "code",
   "execution_count": 5,
   "metadata": {
    "execution": {
     "iopub.execute_input": "2020-11-25T11:33:50.781388Z",
     "iopub.status.busy": "2020-11-25T11:33:50.780769Z",
     "iopub.status.idle": "2020-11-25T11:33:50.783684Z",
     "shell.execute_reply": "2020-11-25T11:33:50.782956Z"
    },
    "papermill": {
     "duration": 0.02855,
     "end_time": "2020-11-25T11:33:50.783800",
     "exception": false,
     "start_time": "2020-11-25T11:33:50.755250",
     "status": "completed"
    },
    "tags": []
   },
   "outputs": [],
   "source": [
    "def remove_pattern(input_txt, pattern):\n",
    "    r = re.findall(pattern, input_txt)\n",
    "    for i in r:\n",
    "        input_txt = re.sub(i, '', input_txt)\n",
    "        \n",
    "    return input_txt "
   ]
  },
  {
   "cell_type": "code",
   "execution_count": 6,
   "metadata": {
    "execution": {
     "iopub.execute_input": "2020-11-25T11:33:50.831881Z",
     "iopub.status.busy": "2020-11-25T11:33:50.831152Z",
     "iopub.status.idle": "2020-11-25T11:33:56.948647Z",
     "shell.execute_reply": "2020-11-25T11:33:56.949206Z"
    },
    "papermill": {
     "duration": 6.144482,
     "end_time": "2020-11-25T11:33:56.949346",
     "exception": false,
     "start_time": "2020-11-25T11:33:50.804864",
     "status": "completed"
    },
    "tags": []
   },
   "outputs": [
    {
     "data": {
      "text/html": [
       "<div>\n",
       "<style scoped>\n",
       "    .dataframe tbody tr th:only-of-type {\n",
       "        vertical-align: middle;\n",
       "    }\n",
       "\n",
       "    .dataframe tbody tr th {\n",
       "        vertical-align: top;\n",
       "    }\n",
       "\n",
       "    .dataframe thead th {\n",
       "        text-align: right;\n",
       "    }\n",
       "</style>\n",
       "<table border=\"1\" class=\"dataframe\">\n",
       "  <thead>\n",
       "    <tr style=\"text-align: right;\">\n",
       "      <th></th>\n",
       "      <th>ItemID</th>\n",
       "      <th>Sentiment</th>\n",
       "      <th>SentimentTexts</th>\n",
       "    </tr>\n",
       "  </thead>\n",
       "  <tbody>\n",
       "    <tr>\n",
       "      <th>0</th>\n",
       "      <td>1</td>\n",
       "      <td>0</td>\n",
       "      <td>is so sad for my APL friend.............</td>\n",
       "    </tr>\n",
       "    <tr>\n",
       "      <th>1</th>\n",
       "      <td>2</td>\n",
       "      <td>0</td>\n",
       "      <td>I missed the New Moon trailer...</td>\n",
       "    </tr>\n",
       "    <tr>\n",
       "      <th>2</th>\n",
       "      <td>3</td>\n",
       "      <td>1</td>\n",
       "      <td>omg its already 7:30 :O</td>\n",
       "    </tr>\n",
       "    <tr>\n",
       "      <th>3</th>\n",
       "      <td>4</td>\n",
       "      <td>0</td>\n",
       "      <td>.. Omgaga. Im sooo  im gunna CRy. I've been at this dentist since 11.. I was suposed 2 just get a crown put on (30mins)...</td>\n",
       "    </tr>\n",
       "    <tr>\n",
       "      <th>4</th>\n",
       "      <td>5</td>\n",
       "      <td>0</td>\n",
       "      <td>i think mi bf is cheating on me!!!       T_T</td>\n",
       "    </tr>\n",
       "    <tr>\n",
       "      <th>...</th>\n",
       "      <td>...</td>\n",
       "      <td>...</td>\n",
       "      <td>...</td>\n",
       "    </tr>\n",
       "    <tr>\n",
       "      <th>99984</th>\n",
       "      <td>99996</td>\n",
       "      <td>0</td>\n",
       "      <td>seems like a repeating problem   hope you're able to find something.</td>\n",
       "    </tr>\n",
       "    <tr>\n",
       "      <th>99985</th>\n",
       "      <td>99997</td>\n",
       "      <td>1</td>\n",
       "      <td>arrrr we both replied to each other over different tweets at the same time  , i'll see you then, Duno where the hell Kateyy is!</td>\n",
       "    </tr>\n",
       "    <tr>\n",
       "      <th>99986</th>\n",
       "      <td>99998</td>\n",
       "      <td>0</td>\n",
       "      <td>ya i thought so</td>\n",
       "    </tr>\n",
       "    <tr>\n",
       "      <th>99987</th>\n",
       "      <td>99999</td>\n",
       "      <td>1</td>\n",
       "      <td>Yes. Yes. I'm glad you had more fun with me.</td>\n",
       "    </tr>\n",
       "    <tr>\n",
       "      <th>99988</th>\n",
       "      <td>100000</td>\n",
       "      <td>1</td>\n",
       "      <td>haha yes you do</td>\n",
       "    </tr>\n",
       "  </tbody>\n",
       "</table>\n",
       "<p>99989 rows × 3 columns</p>\n",
       "</div>"
      ],
      "text/plain": [
       "       ItemID  Sentiment  \\\n",
       "0           1          0   \n",
       "1           2          0   \n",
       "2           3          1   \n",
       "3           4          0   \n",
       "4           5          0   \n",
       "...       ...        ...   \n",
       "99984   99996          0   \n",
       "99985   99997          1   \n",
       "99986   99998          0   \n",
       "99987   99999          1   \n",
       "99988  100000          1   \n",
       "\n",
       "                                                                                                                             SentimentTexts  \n",
       "0                                                                                                  is so sad for my APL friend.............  \n",
       "1                                                                                                          I missed the New Moon trailer...  \n",
       "2                                                                                                                   omg its already 7:30 :O  \n",
       "3                .. Omgaga. Im sooo  im gunna CRy. I've been at this dentist since 11.. I was suposed 2 just get a crown put on (30mins)...  \n",
       "4                                                                                              i think mi bf is cheating on me!!!       T_T  \n",
       "...                                                                                                                                     ...  \n",
       "99984                                                                  seems like a repeating problem   hope you're able to find something.  \n",
       "99985       arrrr we both replied to each other over different tweets at the same time  , i'll see you then, Duno where the hell Kateyy is!  \n",
       "99986                                                                                                                      ya i thought so   \n",
       "99987                                                                                         Yes. Yes. I'm glad you had more fun with me.   \n",
       "99988                                                                                                                      haha yes you do   \n",
       "\n",
       "[99989 rows x 3 columns]"
      ]
     },
     "execution_count": 6,
     "metadata": {},
     "output_type": "execute_result"
    }
   ],
   "source": [
    "#Remove twitter handles (@VirginAmerica| and @AmericanAir)\n",
    "df['SentimentTexts'] = np.vectorize(remove_pattern)(df['SentimentText'], \"@[\\w]*\")\n",
    "df=df.drop([\"SentimentText\"],axis=1)\n",
    "df"
   ]
  },
  {
   "cell_type": "code",
   "execution_count": 7,
   "metadata": {
    "execution": {
     "iopub.execute_input": "2020-11-25T11:33:57.001906Z",
     "iopub.status.busy": "2020-11-25T11:33:57.000988Z",
     "iopub.status.idle": "2020-11-25T11:33:57.005288Z",
     "shell.execute_reply": "2020-11-25T11:33:57.004660Z"
    },
    "papermill": {
     "duration": 0.034465,
     "end_time": "2020-11-25T11:33:57.005387",
     "exception": false,
     "start_time": "2020-11-25T11:33:56.970922",
     "status": "completed"
    },
    "tags": []
   },
   "outputs": [
    {
     "data": {
      "text/plain": [
       "(99989, 2)"
      ]
     },
     "execution_count": 7,
     "metadata": {},
     "output_type": "execute_result"
    }
   ],
   "source": [
    "## Get the Independent Features\n",
    "\n",
    "X=df.drop('Sentiment',axis=1)\n",
    "X.shape\n"
   ]
  },
  {
   "cell_type": "code",
   "execution_count": 8,
   "metadata": {
    "execution": {
     "iopub.execute_input": "2020-11-25T11:33:57.054723Z",
     "iopub.status.busy": "2020-11-25T11:33:57.053926Z",
     "iopub.status.idle": "2020-11-25T11:33:57.058332Z",
     "shell.execute_reply": "2020-11-25T11:33:57.057675Z"
    },
    "papermill": {
     "duration": 0.031553,
     "end_time": "2020-11-25T11:33:57.058442",
     "exception": false,
     "start_time": "2020-11-25T11:33:57.026889",
     "status": "completed"
    },
    "tags": []
   },
   "outputs": [
    {
     "data": {
      "text/plain": [
       "(99989,)"
      ]
     },
     "execution_count": 8,
     "metadata": {},
     "output_type": "execute_result"
    }
   ],
   "source": [
    "## Get the Dependent features\n",
    "y=df['Sentiment']\n",
    "y.shape"
   ]
  },
  {
   "cell_type": "code",
   "execution_count": 9,
   "metadata": {
    "execution": {
     "iopub.execute_input": "2020-11-25T11:33:57.108539Z",
     "iopub.status.busy": "2020-11-25T11:33:57.107828Z",
     "iopub.status.idle": "2020-11-25T11:33:57.110779Z",
     "shell.execute_reply": "2020-11-25T11:33:57.110134Z"
    },
    "papermill": {
     "duration": 0.029907,
     "end_time": "2020-11-25T11:33:57.110880",
     "exception": false,
     "start_time": "2020-11-25T11:33:57.080973",
     "status": "completed"
    },
    "tags": []
   },
   "outputs": [],
   "source": [
    "### Vocabulary size\n",
    "voc_size=30000"
   ]
  },
  {
   "cell_type": "code",
   "execution_count": 10,
   "metadata": {
    "execution": {
     "iopub.execute_input": "2020-11-25T11:33:57.162757Z",
     "iopub.status.busy": "2020-11-25T11:33:57.162004Z",
     "iopub.status.idle": "2020-11-25T11:33:57.166701Z",
     "shell.execute_reply": "2020-11-25T11:33:57.165999Z"
    },
    "papermill": {
     "duration": 0.033274,
     "end_time": "2020-11-25T11:33:57.166810",
     "exception": false,
     "start_time": "2020-11-25T11:33:57.133536",
     "status": "completed"
    },
    "tags": []
   },
   "outputs": [
    {
     "data": {
      "text/plain": [
       "\"          .. Omgaga. Im sooo  im gunna CRy. I've been at this dentist since 11.. I was suposed 2 just get a crown put on (30mins)...\""
      ]
     },
     "execution_count": 10,
     "metadata": {},
     "output_type": "execute_result"
    }
   ],
   "source": [
    "X['SentimentTexts'][3]"
   ]
  },
  {
   "cell_type": "code",
   "execution_count": 11,
   "metadata": {
    "execution": {
     "iopub.execute_input": "2020-11-25T11:33:57.222030Z",
     "iopub.status.busy": "2020-11-25T11:33:57.221068Z",
     "iopub.status.idle": "2020-11-25T11:37:43.819275Z",
     "shell.execute_reply": "2020-11-25T11:37:43.818554Z"
    },
    "papermill": {
     "duration": 226.62975,
     "end_time": "2020-11-25T11:37:43.819404",
     "exception": false,
     "start_time": "2020-11-25T11:33:57.189654",
     "status": "completed"
    },
    "tags": []
   },
   "outputs": [],
   "source": [
    "\n",
    "#Dataset Preprocessing\n",
    "from nltk.stem.porter import PorterStemmer\n",
    "ps = PorterStemmer()\n",
    "corpus = []\n",
    "for i in range(0, len(X)):\n",
    "    tweet = re.sub('[^a-zA-Z]', ' ', X[\"SentimentTexts\"][i])\n",
    "    tweet = tweet.lower()\n",
    "    tweet = tweet.split()\n",
    "    \n",
    "    tweet = [ps.stem(word) for word in tweet if not word in stopwords.words('english')]\n",
    "    tweet = ' '.join(tweet)\n",
    "    corpus.append(tweet)"
   ]
  },
  {
   "cell_type": "code",
   "execution_count": 12,
   "metadata": {
    "execution": {
     "iopub.execute_input": "2020-11-25T11:37:43.877465Z",
     "iopub.status.busy": "2020-11-25T11:37:43.876624Z",
     "iopub.status.idle": "2020-11-25T11:37:43.881279Z",
     "shell.execute_reply": "2020-11-25T11:37:43.880414Z"
    },
    "papermill": {
     "duration": 0.034067,
     "end_time": "2020-11-25T11:37:43.881407",
     "exception": false,
     "start_time": "2020-11-25T11:37:43.847340",
     "status": "completed"
    },
    "tags": []
   },
   "outputs": [
    {
     "data": {
      "text/plain": [
       "['miss new moon trailer',\n",
       " 'omg alreadi',\n",
       " 'omgaga im sooo im gunna cri dentist sinc supos get crown put min',\n",
       " 'think mi bf cheat',\n",
       " 'worri much',\n",
       " 'juuuuuuuuuuuuuuuuussssst chillin']"
      ]
     },
     "execution_count": 12,
     "metadata": {},
     "output_type": "execute_result"
    }
   ],
   "source": [
    "corpus[1:7]"
   ]
  },
  {
   "cell_type": "code",
   "execution_count": 13,
   "metadata": {
    "execution": {
     "iopub.execute_input": "2020-11-25T11:37:43.954184Z",
     "iopub.status.busy": "2020-11-25T11:37:43.949023Z",
     "iopub.status.idle": "2020-11-25T11:37:45.630895Z",
     "shell.execute_reply": "2020-11-25T11:37:45.630129Z"
    },
    "papermill": {
     "duration": 1.721543,
     "end_time": "2020-11-25T11:37:45.631020",
     "exception": false,
     "start_time": "2020-11-25T11:37:43.909477",
     "status": "completed"
    },
    "tags": []
   },
   "outputs": [
    {
     "data": {
      "text/plain": [
       "[[16400, 3381, 2652, 16905],\n",
       " [1206, 5960],\n",
       " [6216,\n",
       "  9124,\n",
       "  13211,\n",
       "  9124,\n",
       "  25401,\n",
       "  13014,\n",
       "  21146,\n",
       "  23702,\n",
       "  28138,\n",
       "  5056,\n",
       "  9378,\n",
       "  10045,\n",
       "  8571],\n",
       " [29059, 18675, 4349, 15882],\n",
       " [22899, 22754],\n",
       " [19802, 16610],\n",
       " [22447, 17080, 28016, 29950, 13665],\n",
       " [12532, 4146, 24875, 16400, 5960],\n",
       " [9383, 15822, 2371],\n",
       " [14017, 29059, 13551],\n",
       " [13125, 15332, 24470, 8684],\n",
       " [27856, 20577, 11946],\n",
       " [23528, 29060, 27361, 11959],\n",
       " [27378, 3153, 9243],\n",
       " [15395, 5607, 23588, 9580],\n",
       " [17160, 25057, 15507, 20390, 11799, 11691, 5082, 22880, 312, 18721],\n",
       " [23588, 2625, 11094, 22142, 8065, 11445, 11548, 19298],\n",
       " [607, 13445, 9537, 19454],\n",
       " [27657, 12842, 13394, 20161, 24053, 22142, 19838, 14786, 11117]]"
      ]
     },
     "execution_count": 13,
     "metadata": {},
     "output_type": "execute_result"
    }
   ],
   "source": [
    "#ONE-HOT REPRESENTATION\n",
    "onehot_repr=[one_hot(words,voc_size)for words in corpus] \n",
    "onehot_repr[1:20]"
   ]
  },
  {
   "cell_type": "code",
   "execution_count": 14,
   "metadata": {
    "execution": {
     "iopub.execute_input": "2020-11-25T11:37:45.704761Z",
     "iopub.status.busy": "2020-11-25T11:37:45.699521Z",
     "iopub.status.idle": "2020-11-25T11:37:46.424031Z",
     "shell.execute_reply": "2020-11-25T11:37:46.422864Z"
    },
    "papermill": {
     "duration": 0.767692,
     "end_time": "2020-11-25T11:37:46.424210",
     "exception": false,
     "start_time": "2020-11-25T11:37:45.656518",
     "status": "completed"
    },
    "tags": []
   },
   "outputs": [
    {
     "name": "stdout",
     "output_type": "stream",
     "text": [
      "[[12898 25634 15134 ...     0     0     0]\n",
      " [16400  3381  2652 ...     0     0     0]\n",
      " [ 1206  5960     0 ...     0     0     0]\n",
      " ...\n",
      " [15959 22884     0 ...     0     0     0]\n",
      " [10761 10761  7792 ...     0     0     0]\n",
      " [ 2210 10761     0 ...     0     0     0]]\n"
     ]
    }
   ],
   "source": [
    "#Embedding Representing\n",
    "sent_length=40\n",
    "embedded_docs=pad_sequences(onehot_repr,padding='post',maxlen=sent_length)\n",
    "print(embedded_docs)"
   ]
  },
  {
   "cell_type": "code",
   "execution_count": 15,
   "metadata": {
    "execution": {
     "iopub.execute_input": "2020-11-25T11:37:46.480258Z",
     "iopub.status.busy": "2020-11-25T11:37:46.479490Z",
     "iopub.status.idle": "2020-11-25T11:37:46.483313Z",
     "shell.execute_reply": "2020-11-25T11:37:46.483824Z"
    },
    "papermill": {
     "duration": 0.033877,
     "end_time": "2020-11-25T11:37:46.483971",
     "exception": false,
     "start_time": "2020-11-25T11:37:46.450094",
     "status": "completed"
    },
    "tags": []
   },
   "outputs": [
    {
     "data": {
      "text/plain": [
       "array([1206, 5960,    0,    0,    0,    0,    0,    0,    0,    0,    0,\n",
       "          0,    0,    0,    0,    0,    0,    0,    0,    0,    0,    0,\n",
       "          0,    0,    0,    0,    0,    0,    0,    0,    0,    0,    0,\n",
       "          0,    0,    0,    0,    0,    0,    0], dtype=int32)"
      ]
     },
     "execution_count": 15,
     "metadata": {},
     "output_type": "execute_result"
    }
   ],
   "source": [
    "embedded_docs[2]"
   ]
  },
  {
   "cell_type": "code",
   "execution_count": 16,
   "metadata": {
    "execution": {
     "iopub.execute_input": "2020-11-25T11:37:46.542001Z",
     "iopub.status.busy": "2020-11-25T11:37:46.541311Z",
     "iopub.status.idle": "2020-11-25T11:37:47.033588Z",
     "shell.execute_reply": "2020-11-25T11:37:47.034145Z"
    },
    "papermill": {
     "duration": 0.524936,
     "end_time": "2020-11-25T11:37:47.034294",
     "exception": false,
     "start_time": "2020-11-25T11:37:46.509358",
     "status": "completed"
    },
    "tags": []
   },
   "outputs": [
    {
     "name": "stdout",
     "output_type": "stream",
     "text": [
      "Model: \"sequential\"\n",
      "_________________________________________________________________\n",
      "Layer (type)                 Output Shape              Param #   \n",
      "=================================================================\n",
      "embedding (Embedding)        (None, 40, 200)           6000000   \n",
      "_________________________________________________________________\n",
      "lstm (LSTM)                  (None, 200)               320800    \n",
      "_________________________________________________________________\n",
      "dense (Dense)                (None, 1)                 201       \n",
      "=================================================================\n",
      "Total params: 6,321,001\n",
      "Trainable params: 6,321,001\n",
      "Non-trainable params: 0\n",
      "_________________________________________________________________\n",
      "None\n"
     ]
    }
   ],
   "source": [
    "## Creating model\n",
    "embedding_vector_features=200\n",
    "model=Sequential()\n",
    "model.add(Embedding(voc_size,embedding_vector_features,input_length=sent_length))\n",
    "model.add(LSTM(200))\n",
    "model.add(Dense(1,activation='sigmoid'))\n",
    "model.compile(loss='binary_crossentropy',optimizer='adam',metrics=['accuracy'])\n",
    "print(model.summary())"
   ]
  },
  {
   "cell_type": "code",
   "execution_count": 17,
   "metadata": {
    "execution": {
     "iopub.execute_input": "2020-11-25T11:37:47.092557Z",
     "iopub.status.busy": "2020-11-25T11:37:47.091712Z",
     "iopub.status.idle": "2020-11-25T11:37:47.095920Z",
     "shell.execute_reply": "2020-11-25T11:37:47.095347Z"
    },
    "papermill": {
     "duration": 0.035714,
     "end_time": "2020-11-25T11:37:47.096029",
     "exception": false,
     "start_time": "2020-11-25T11:37:47.060315",
     "status": "completed"
    },
    "tags": []
   },
   "outputs": [
    {
     "data": {
      "text/plain": [
       "(99989, (99989,))"
      ]
     },
     "execution_count": 17,
     "metadata": {},
     "output_type": "execute_result"
    }
   ],
   "source": [
    "len(embedded_docs),y.shape #same same dimension"
   ]
  },
  {
   "cell_type": "code",
   "execution_count": 18,
   "metadata": {
    "execution": {
     "iopub.execute_input": "2020-11-25T11:37:47.152626Z",
     "iopub.status.busy": "2020-11-25T11:37:47.151956Z",
     "iopub.status.idle": "2020-11-25T11:37:47.160539Z",
     "shell.execute_reply": "2020-11-25T11:37:47.161116Z"
    },
    "papermill": {
     "duration": 0.038831,
     "end_time": "2020-11-25T11:37:47.161281",
     "exception": false,
     "start_time": "2020-11-25T11:37:47.122450",
     "status": "completed"
    },
    "tags": []
   },
   "outputs": [],
   "source": [
    "x=np.array(embedded_docs)\n",
    "Y=np.array(y)"
   ]
  },
  {
   "cell_type": "code",
   "execution_count": 19,
   "metadata": {
    "execution": {
     "iopub.execute_input": "2020-11-25T11:37:47.218923Z",
     "iopub.status.busy": "2020-11-25T11:37:47.217989Z",
     "iopub.status.idle": "2020-11-25T11:37:47.222703Z",
     "shell.execute_reply": "2020-11-25T11:37:47.222134Z"
    },
    "papermill": {
     "duration": 0.035002,
     "end_time": "2020-11-25T11:37:47.222834",
     "exception": false,
     "start_time": "2020-11-25T11:37:47.187832",
     "status": "completed"
    },
    "tags": []
   },
   "outputs": [
    {
     "data": {
      "text/plain": [
       "((99989, 40), (99989,))"
      ]
     },
     "execution_count": 19,
     "metadata": {},
     "output_type": "execute_result"
    }
   ],
   "source": [
    "x.shape,Y.shape"
   ]
  },
  {
   "cell_type": "code",
   "execution_count": 20,
   "metadata": {
    "execution": {
     "iopub.execute_input": "2020-11-25T11:37:47.283901Z",
     "iopub.status.busy": "2020-11-25T11:37:47.283150Z",
     "iopub.status.idle": "2020-11-25T11:37:47.303797Z",
     "shell.execute_reply": "2020-11-25T11:37:47.303050Z"
    },
    "papermill": {
     "duration": 0.053635,
     "end_time": "2020-11-25T11:37:47.303903",
     "exception": false,
     "start_time": "2020-11-25T11:37:47.250268",
     "status": "completed"
    },
    "tags": []
   },
   "outputs": [],
   "source": [
    "#Training the model\n",
    "from sklearn.model_selection import train_test_split\n",
    "X_train, X_test, y_train, y_test = train_test_split(x, Y, test_size=0.25, random_state=0)"
   ]
  },
  {
   "cell_type": "code",
   "execution_count": 21,
   "metadata": {
    "execution": {
     "iopub.execute_input": "2020-11-25T11:37:47.366656Z",
     "iopub.status.busy": "2020-11-25T11:37:47.365951Z",
     "iopub.status.idle": "2020-11-25T11:58:11.929873Z",
     "shell.execute_reply": "2020-11-25T11:58:11.928993Z"
    },
    "papermill": {
     "duration": 1224.597566,
     "end_time": "2020-11-25T11:58:11.930046",
     "exception": false,
     "start_time": "2020-11-25T11:37:47.332480",
     "status": "completed"
    },
    "tags": []
   },
   "outputs": [
    {
     "name": "stdout",
     "output_type": "stream",
     "text": [
      "Epoch 1/10\n",
      "750/750 [==============================] - 122s 163ms/step - loss: 0.6612 - accuracy: 0.6067 - val_loss: 0.6336 - val_accuracy: 0.6620\n",
      "Epoch 2/10\n",
      "750/750 [==============================] - 122s 163ms/step - loss: 0.6506 - accuracy: 0.6339 - val_loss: 0.6812 - val_accuracy: 0.5777\n",
      "Epoch 3/10\n",
      "750/750 [==============================] - 122s 162ms/step - loss: 0.6565 - accuracy: 0.6254 - val_loss: 0.6361 - val_accuracy: 0.6547\n",
      "Epoch 4/10\n",
      "750/750 [==============================] - 122s 163ms/step - loss: 0.6219 - accuracy: 0.6718 - val_loss: 0.6394 - val_accuracy: 0.6463\n",
      "Epoch 5/10\n",
      "750/750 [==============================] - 122s 162ms/step - loss: 0.6215 - accuracy: 0.6543 - val_loss: 0.5561 - val_accuracy: 0.7167\n",
      "Epoch 6/10\n",
      "750/750 [==============================] - 121s 162ms/step - loss: 0.5037 - accuracy: 0.7525 - val_loss: 0.5202 - val_accuracy: 0.7391\n",
      "Epoch 7/10\n",
      "750/750 [==============================] - 121s 161ms/step - loss: 0.4290 - accuracy: 0.7976 - val_loss: 0.5361 - val_accuracy: 0.7325\n",
      "Epoch 8/10\n",
      "750/750 [==============================] - 121s 161ms/step - loss: 0.3649 - accuracy: 0.8307 - val_loss: 0.6009 - val_accuracy: 0.7251\n",
      "Epoch 9/10\n",
      "750/750 [==============================] - 123s 164ms/step - loss: 0.3030 - accuracy: 0.8624 - val_loss: 0.6923 - val_accuracy: 0.7163\n",
      "Epoch 10/10\n",
      "750/750 [==============================] - 122s 162ms/step - loss: 0.2483 - accuracy: 0.8880 - val_loss: 0.8345 - val_accuracy: 0.7042\n"
     ]
    },
    {
     "data": {
      "text/plain": [
       "<tensorflow.python.keras.callbacks.History at 0x7f43b4128c10>"
      ]
     },
     "execution_count": 21,
     "metadata": {},
     "output_type": "execute_result"
    }
   ],
   "source": [
    "### Finally Training\n",
    "model.fit(X_train,y_train,validation_data=(X_test,y_test),epochs=10,batch_size=100)"
   ]
  },
  {
   "cell_type": "code",
   "execution_count": 22,
   "metadata": {
    "execution": {
     "iopub.execute_input": "2020-11-25T11:58:17.890478Z",
     "iopub.status.busy": "2020-11-25T11:58:17.889642Z",
     "iopub.status.idle": "2020-11-25T11:58:18.258944Z",
     "shell.execute_reply": "2020-11-25T11:58:18.258342Z"
    },
    "papermill": {
     "duration": 3.303949,
     "end_time": "2020-11-25T11:58:18.259054",
     "exception": false,
     "start_time": "2020-11-25T11:58:14.955105",
     "status": "completed"
    },
    "tags": []
   },
   "outputs": [],
   "source": [
    "#Adding Dropout Layer\n",
    "from tensorflow.keras.layers import Dropout\n",
    "## Creating model\n",
    "embedding_vector_features=200\n",
    "model=Sequential()\n",
    "model.add(Embedding(voc_size,embedding_vector_features,input_length=sent_length))\n",
    "model.add(Dropout(0.3))\n",
    "model.add(LSTM(200))\n",
    "model.add(Dropout(0.3))\n",
    "model.add(Dense(1,activation='sigmoid'))\n",
    "model.compile(loss='binary_crossentropy',optimizer='adam',metrics=['accuracy'])"
   ]
  },
  {
   "cell_type": "code",
   "execution_count": 23,
   "metadata": {
    "execution": {
     "iopub.execute_input": "2020-11-25T11:58:24.156339Z",
     "iopub.status.busy": "2020-11-25T11:58:24.155301Z",
     "iopub.status.idle": "2020-11-25T11:58:41.454853Z",
     "shell.execute_reply": "2020-11-25T11:58:41.454199Z"
    },
    "papermill": {
     "duration": 20.294659,
     "end_time": "2020-11-25T11:58:41.454981",
     "exception": false,
     "start_time": "2020-11-25T11:58:21.160322",
     "status": "completed"
    },
    "tags": []
   },
   "outputs": [],
   "source": [
    "y_pred=model.predict_classes(X_test)"
   ]
  },
  {
   "cell_type": "code",
   "execution_count": 24,
   "metadata": {
    "execution": {
     "iopub.execute_input": "2020-11-25T11:58:47.355731Z",
     "iopub.status.busy": "2020-11-25T11:58:47.354949Z",
     "iopub.status.idle": "2020-11-25T11:58:47.401104Z",
     "shell.execute_reply": "2020-11-25T11:58:47.400456Z"
    },
    "papermill": {
     "duration": 2.982174,
     "end_time": "2020-11-25T11:58:47.401227",
     "exception": false,
     "start_time": "2020-11-25T11:58:44.419053",
     "status": "completed"
    },
    "tags": []
   },
   "outputs": [
    {
     "data": {
      "text/plain": [
       "array([[    0, 10949],\n",
       "       [    0, 14049]])"
      ]
     },
     "execution_count": 24,
     "metadata": {},
     "output_type": "execute_result"
    }
   ],
   "source": [
    "#Performance metrics and Accuracy\n",
    "from sklearn.metrics import confusion_matrix,accuracy_score\n",
    "\n",
    "confusion_matrix(y_test,y_pred)"
   ]
  },
  {
   "cell_type": "code",
   "execution_count": 25,
   "metadata": {
    "execution": {
     "iopub.execute_input": "2020-11-25T11:58:53.189913Z",
     "iopub.status.busy": "2020-11-25T11:58:53.188972Z",
     "iopub.status.idle": "2020-11-25T11:58:53.196448Z",
     "shell.execute_reply": "2020-11-25T11:58:53.195879Z"
    },
    "papermill": {
     "duration": 2.870758,
     "end_time": "2020-11-25T11:58:53.196577",
     "exception": false,
     "start_time": "2020-11-25T11:58:50.325819",
     "status": "completed"
    },
    "tags": []
   },
   "outputs": [
    {
     "data": {
      "text/plain": [
       "0.5620049603968318"
      ]
     },
     "execution_count": 25,
     "metadata": {},
     "output_type": "execute_result"
    }
   ],
   "source": [
    "accuracy_score(y_test,y_pred)"
   ]
  }
 ],
 "metadata": {
  "kernelspec": {
   "display_name": "Python 3",
   "language": "python",
   "name": "python3"
  },
  "language_info": {
   "codemirror_mode": {
    "name": "ipython",
    "version": 3
   },
   "file_extension": ".py",
   "mimetype": "text/x-python",
   "name": "python",
   "nbconvert_exporter": "python",
   "pygments_lexer": "ipython3",
   "version": "3.7.6"
  },
  "papermill": {
   "duration": 1517.524206,
   "end_time": "2020-11-25T11:58:56.238544",
   "environment_variables": {},
   "exception": null,
   "input_path": "__notebook__.ipynb",
   "output_path": "__notebook__.ipynb",
   "parameters": {},
   "start_time": "2020-11-25T11:33:38.714338",
   "version": "2.1.0"
  }
 },
 "nbformat": 4,
 "nbformat_minor": 4
}
